{
 "cells": [
  {
   "cell_type": "code",
   "execution_count": 9,
   "metadata": {},
   "outputs": [],
   "source": [
    "from pathlib import Path\n",
    "import loader\n",
    "\n",
    "STORAGE = Path(\"storage\")\n",
    "\n",
    "# Docs should be in this notebook. Explain data sources, parameters meaning, etc\n",
    "# Provide example!"
   ]
  },
  {
   "cell_type": "code",
   "execution_count": null,
   "metadata": {},
   "outputs": [],
   "source": [
    "loader.omics()"
   ]
  },
  {
   "cell_type": "markdown",
   "metadata": {},
   "source": [
    "# Genome assembly\n",
    "\n",
    "TODO: docs"
   ]
  },
  {
   "cell_type": "code",
   "execution_count": null,
   "metadata": {},
   "outputs": [],
   "source": [
    "fasta = STORAGE.joinpath(\"assembly.fa.gz\")\n",
    "\n",
    "loader.assembly(tag=\"GRCh38\", saveto=fasta)\n",
    "\n",
    "assert fasta.exists() and fasta.with_suffix(\".fa.gz.fai\").exists(), \\\n",
    "    \"The download failed! Please, retry.\""
   ]
  },
  {
   "cell_type": "markdown",
   "metadata": {},
   "source": [
    "# Omics data\n",
    "\n",
    "TODO: docs"
   ]
  },
  {
   "cell_type": "code",
   "execution_count": null,
   "metadata": {},
   "outputs": [],
   "source": [
    "Example = {\n",
    "    \"expid\"     :   \"SRX344646\",\n",
    "    \"assembly\"  :   \"hg19\",\n",
    "    \"Q-value\"   :   \"10\",\n",
    "    \"a.g_class\" :   \"TFs_and_others\",\n",
    "    \"antigen\"   :   \"GATA2\",\n",
    "    \"cell_type\" :   \"Blood\",\n",
    "    \"cell\"      :   \"K-562\",\n",
    "    \"storage\"   :   \"./storage\",\n",
    "    \"output\"    :   \"./\"\n",
    "}\n",
    "\n",
    "loader.omics(\n",
    "    expid               = Example[\"expid\"],\n",
    "    assembly            = Example[\"assembly\"],\n",
    "    assembly_threshold  = Example [\"Q-value\"],\n",
    "    antigen_class       = Example[\"a.g_class\"],\n",
    "    antigen             = Example[\"antigen\"],\n",
    "    cell_type           = Example[\"cell_type\"],\n",
    "    cell                = Example[\"cell\"],\n",
    "    storage             = Example[\"storage\"],\n",
    "    output_path         = Example[\"output\"]\n",
    "    )"
   ]
  },
  {
   "attachments": {},
   "cell_type": "markdown",
   "metadata": {},
   "source": [
    "BED files must be saved in the storage folder, in bed format with meaningful names\n",
    "\n",
    "- expid\n",
    "\n",
    "Ids of experiments that you need \n",
    "\n",
    "Example: SRX344646\n",
    "\n",
    "- assembly\n",
    "\n",
    "Genome assembly\n",
    "\n",
    "default: hg38\n",
    "\n",
    "Example: hg19\n",
    "\n",
    "- assembly_threshold\n",
    "\n",
    "Q-value thresholds\n",
    "\n",
    "default: 05\n",
    "\n",
    "Example: 10\n",
    "\n",
    "- antigen_class\n",
    "\n",
    "IMPORTANT: if the antigen class contains spaces, then they should be replaced with “_”\n",
    "\n",
    "Example 1: Histone\n",
    "\n",
    "Example 2: TFs_and_others\n",
    "\n",
    "- antigen\n",
    "\n",
    "Example: GATA2\n",
    "\n",
    "- cell_type\n",
    "\n",
    "Example: Blood\n",
    "\n",
    "- cell\n",
    "\n",
    "Example: K-562"
   ]
  },
  {
   "cell_type": "code",
   "execution_count": null,
   "metadata": {},
   "outputs": [],
   "source": []
  }
 ],
 "metadata": {
  "kernelspec": {
   "display_name": "Python 3 (ipykernel)",
   "language": "python",
   "name": "python3"
  },
  "language_info": {
   "codemirror_mode": {
    "name": "ipython",
    "version": 3
   },
   "file_extension": ".py",
   "mimetype": "text/x-python",
   "name": "python",
   "nbconvert_exporter": "python",
   "pygments_lexer": "ipython3",
   "version": "3.10.6"
  }
 },
 "nbformat": 4,
 "nbformat_minor": 1
}
