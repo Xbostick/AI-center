{
 "cells": [
  {
   "cell_type": "code",
   "execution_count": 13,
   "metadata": {
    "collapsed": false
   },
   "outputs": [],
   "source": [
    "from pathlib import Path\n",
    "import import_ipynb\n",
    "import omicDC\n",
    "\n",
    "STORAGE = Path(\"storage\")\n",
    "\n",
    "# Docs should be in this notebook. Explain data sources, parameters meaning, etc\n",
    "# Provide example!"
   ]
  },
  {
   "cell_type": "markdown",
   "metadata": {
    "collapsed": false
   },
   "source": [
    "# Genome assembly\n",
    "\n",
    "TODO: docs"
   ]
  },
  {
   "cell_type": "code",
   "execution_count": null,
   "metadata": {
    "collapsed": false
   },
   "outputs": [],
   "source": [
    "fasta = STORAGE.joinpath(\"assembly.fa.gz\")\n",
    "\n",
    "loader.assembly(tag=\"GRCh38\", saveto=fasta)\n",
    "\n",
    "assert fasta.exists() and fasta.with_suffix(\".fa.gz.fai\").exists(), \\\n",
    "    \"The download failed! Please, retry.\""
   ]
  },
  {
   "cell_type": "markdown",
   "metadata": {
    "collapsed": false
   },
   "source": [
    "# Omics data\n",
    "\n",
    "TODO: docs"
   ]
  },
  {
   "cell_type": "code",
   "execution_count": 16,
   "metadata": {
    "collapsed": false
   },
   "outputs": [
    {
     "ename": "AttributeError",
     "evalue": "module 'omicDC' has no attribute 'omics'",
     "output_type": "error",
     "traceback": [
      "\u001b[1;31m---------------------------------------------------------------------------\u001b[0m",
      "\u001b[1;31mAttributeError\u001b[0m                            Traceback (most recent call last)",
      "\u001b[1;32mm:\\Fast_Work\\AI-center\\data\\loader.ipynb Ячейка 5\u001b[0m in \u001b[0;36m2\n\u001b[0;32m      <a href='vscode-notebook-cell:/m%3A/Fast_Work/AI-center/data/loader.ipynb#W4sZmlsZQ%3D%3D?line=0'>1</a>\u001b[0m \u001b[39m# BED files must be saved in the storage folder, in bed format with meaningful names\u001b[39;00m\n\u001b[1;32m----> <a href='vscode-notebook-cell:/m%3A/Fast_Work/AI-center/data/loader.ipynb#W4sZmlsZQ%3D%3D?line=1'>2</a>\u001b[0m omicDC\u001b[39m.\u001b[39momics()\n",
      "\u001b[1;31mAttributeError\u001b[0m: module 'omicDC' has no attribute 'omics'"
     ]
    }
   ],
   "source": [
    "# BED files must be saved in the storage folder, in bed format with meaningful names\n",
    "omicDC.omics() # How should it work?"
   ]
  }
 ],
 "metadata": {
  "kernelspec": {
   "display_name": "Python 3",
   "language": "python",
   "name": "python3"
  },
  "language_info": {
   "codemirror_mode": {
    "name": "ipython",
    "version": 3
   },
   "file_extension": ".py",
   "mimetype": "text/x-python",
   "name": "python",
   "nbconvert_exporter": "python",
   "pygments_lexer": "ipython3",
   "version": "3.10.6"
  }
 },
 "nbformat": 4,
 "nbformat_minor": 0
}
