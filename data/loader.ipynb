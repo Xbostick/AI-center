{
 "cells": [
  {
   "cell_type": "code",
   "execution_count": 4,
   "metadata": {},
   "outputs": [],
   "source": [
    "from pathlib import Path\n",
    "import loader\n",
    "\n",
    "STORAGE = Path(\"storage\")\n",
    "\n",
    "# Docs should be in this notebook. Explain data sources, parameters meaning, etc\n",
    "# Provide example!"
   ]
  },
  {
   "cell_type": "markdown",
   "metadata": {},
   "source": [
    "# Genome assembly\n",
    "\n",
    "TODO: docs"
   ]
  },
  {
   "cell_type": "code",
   "execution_count": null,
   "metadata": {},
   "outputs": [],
   "source": [
    "fasta = STORAGE.joinpath(\"assembly.fa.gz\")\n",
    "\n",
    "loader.assembly(tag=\"GRCh38\", saveto=fasta)\n",
    "\n",
    "assert fasta.exists() and fasta.with_suffix(\".fa.gz.fai\").exists(), \\\n",
    "    \"The download failed! Please, retry.\""
   ]
  },
  {
   "cell_type": "markdown",
   "metadata": {},
   "source": [
    "# Omics data\n",
    "\n",
    "TODO: docs"
   ]
  },
  {
   "cell_type": "code",
   "execution_count": 7,
   "metadata": {},
   "outputs": [
    {
     "ename": "HTTPError",
     "evalue": "HTTP Error 404: Not Found",
     "output_type": "error",
     "traceback": [
      "\u001b[1;31m---------------------------------------------------------------------------\u001b[0m",
      "\u001b[1;31mHTTPError\u001b[0m                                 Traceback (most recent call last)",
      "\u001b[1;32mm:\\Fast_Work\\AI-center\\data\\loader.ipynb Ячейка 5\u001b[0m in \u001b[0;36m1\n\u001b[0;32m      <a href='vscode-notebook-cell:/m%3A/Fast_Work/AI-center/data/loader.ipynb#W4sZmlsZQ%3D%3D?line=0'>1</a>\u001b[0m Example \u001b[39m=\u001b[39m {\n\u001b[0;32m      <a href='vscode-notebook-cell:/m%3A/Fast_Work/AI-center/data/loader.ipynb#W4sZmlsZQ%3D%3D?line=1'>2</a>\u001b[0m     \u001b[39m\"\u001b[39m\u001b[39mexpid\u001b[39m\u001b[39m\"\u001b[39m     :   \u001b[39m\"\u001b[39m\u001b[39mSRX344646\u001b[39m\u001b[39m\"\u001b[39m,\n\u001b[0;32m      <a href='vscode-notebook-cell:/m%3A/Fast_Work/AI-center/data/loader.ipynb#W4sZmlsZQ%3D%3D?line=2'>3</a>\u001b[0m     \u001b[39m\"\u001b[39m\u001b[39massembly\u001b[39m\u001b[39m\"\u001b[39m  :   \u001b[39m\"\u001b[39m\u001b[39mhg19\u001b[39m\u001b[39m\"\u001b[39m,\n\u001b[1;32m   (...)\u001b[0m\n\u001b[0;32m     <a href='vscode-notebook-cell:/m%3A/Fast_Work/AI-center/data/loader.ipynb#W4sZmlsZQ%3D%3D?line=9'>10</a>\u001b[0m     \u001b[39m\"\u001b[39m\u001b[39moutput\u001b[39m\u001b[39m\"\u001b[39m    :   \u001b[39m\"\u001b[39m\u001b[39m./\u001b[39m\u001b[39m\"\u001b[39m\n\u001b[0;32m     <a href='vscode-notebook-cell:/m%3A/Fast_Work/AI-center/data/loader.ipynb#W4sZmlsZQ%3D%3D?line=10'>11</a>\u001b[0m }\n\u001b[1;32m---> <a href='vscode-notebook-cell:/m%3A/Fast_Work/AI-center/data/loader.ipynb#W4sZmlsZQ%3D%3D?line=12'>13</a>\u001b[0m loader\u001b[39m.\u001b[39momics(\n\u001b[0;32m     <a href='vscode-notebook-cell:/m%3A/Fast_Work/AI-center/data/loader.ipynb#W4sZmlsZQ%3D%3D?line=13'>14</a>\u001b[0m     expid               \u001b[39m=\u001b[39m Example[\u001b[39m\"\u001b[39m\u001b[39mexpid\u001b[39m\u001b[39m\"\u001b[39m],\n\u001b[0;32m     <a href='vscode-notebook-cell:/m%3A/Fast_Work/AI-center/data/loader.ipynb#W4sZmlsZQ%3D%3D?line=14'>15</a>\u001b[0m     assembly            \u001b[39m=\u001b[39m Example[\u001b[39m\"\u001b[39m\u001b[39massembly\u001b[39m\u001b[39m\"\u001b[39m],\n\u001b[0;32m     <a href='vscode-notebook-cell:/m%3A/Fast_Work/AI-center/data/loader.ipynb#W4sZmlsZQ%3D%3D?line=15'>16</a>\u001b[0m     assembly_threshold  \u001b[39m=\u001b[39m Example [\u001b[39m\"\u001b[39m\u001b[39mQ-value\u001b[39m\u001b[39m\"\u001b[39m],\n\u001b[0;32m     <a href='vscode-notebook-cell:/m%3A/Fast_Work/AI-center/data/loader.ipynb#W4sZmlsZQ%3D%3D?line=16'>17</a>\u001b[0m     antigen_class       \u001b[39m=\u001b[39m Example[\u001b[39m\"\u001b[39m\u001b[39ma.g_class\u001b[39m\u001b[39m\"\u001b[39m],\n\u001b[0;32m     <a href='vscode-notebook-cell:/m%3A/Fast_Work/AI-center/data/loader.ipynb#W4sZmlsZQ%3D%3D?line=17'>18</a>\u001b[0m     antigen             \u001b[39m=\u001b[39m Example[\u001b[39m\"\u001b[39m\u001b[39mantigen\u001b[39m\u001b[39m\"\u001b[39m],\n\u001b[0;32m     <a href='vscode-notebook-cell:/m%3A/Fast_Work/AI-center/data/loader.ipynb#W4sZmlsZQ%3D%3D?line=18'>19</a>\u001b[0m     cell_type           \u001b[39m=\u001b[39m Example[\u001b[39m\"\u001b[39m\u001b[39mcell_type\u001b[39m\u001b[39m\"\u001b[39m],\n\u001b[0;32m     <a href='vscode-notebook-cell:/m%3A/Fast_Work/AI-center/data/loader.ipynb#W4sZmlsZQ%3D%3D?line=19'>20</a>\u001b[0m     cell                \u001b[39m=\u001b[39m Example[\u001b[39m\"\u001b[39m\u001b[39mcell\u001b[39m\u001b[39m\"\u001b[39m],\n\u001b[0;32m     <a href='vscode-notebook-cell:/m%3A/Fast_Work/AI-center/data/loader.ipynb#W4sZmlsZQ%3D%3D?line=20'>21</a>\u001b[0m     storage             \u001b[39m=\u001b[39m Example[\u001b[39m\"\u001b[39m\u001b[39mstorage\u001b[39m\u001b[39m\"\u001b[39m],\n\u001b[0;32m     <a href='vscode-notebook-cell:/m%3A/Fast_Work/AI-center/data/loader.ipynb#W4sZmlsZQ%3D%3D?line=21'>22</a>\u001b[0m     output_path         \u001b[39m=\u001b[39m Example[\u001b[39m\"\u001b[39m\u001b[39moutput\u001b[39m\u001b[39m\"\u001b[39m]\n\u001b[0;32m     <a href='vscode-notebook-cell:/m%3A/Fast_Work/AI-center/data/loader.ipynb#W4sZmlsZQ%3D%3D?line=22'>23</a>\u001b[0m     )\n",
      "File \u001b[1;32mm:\\Fast_Work\\AI-center\\data\\loader\\omicDC.py:143\u001b[0m, in \u001b[0;36momics\u001b[1;34m(expid, assembly, assembly_threshold, antigen_class, antigen, cell_type, cell, storage, output_path, ncores, nworkers, verbose)\u001b[0m\n\u001b[0;32m    140\u001b[0m     os\u001b[39m.\u001b[39msystem(\u001b[39mf\u001b[39m\u001b[39m\"\u001b[39m\u001b[39mgunzip \u001b[39m\u001b[39m{\u001b[39;00mstorage\u001b[39m}\u001b[39;00m\u001b[39m/experimentList.tab.gz\u001b[39m\u001b[39m\"\u001b[39m)\n\u001b[0;32m    142\u001b[0m \u001b[39mif\u001b[39;00m \u001b[39mnot\u001b[39;00m os\u001b[39m.\u001b[39mpath\u001b[39m.\u001b[39misfile(storage \u001b[39m+\u001b[39m \u001b[39mf\u001b[39m\u001b[39m\"\u001b[39m\u001b[39m/allPeaks_light.\u001b[39m\u001b[39m{\u001b[39;00massembly\u001b[39m}\u001b[39;00m\u001b[39m.\u001b[39m\u001b[39m{\u001b[39;00massembly_threshold\u001b[39m}\u001b[39;00m\u001b[39m.bed\u001b[39m\u001b[39m\"\u001b[39m):\n\u001b[1;32m--> 143\u001b[0m     wget\u001b[39m.\u001b[39;49mdownload(\n\u001b[0;32m    144\u001b[0m                     \u001b[39mf\u001b[39;49m\u001b[39m\"\u001b[39;49m\u001b[39mhttps://chip-atlas.dbcls.jp/data/hg38/allPeaks_light/allPeaks_light.\u001b[39;49m\u001b[39m{\u001b[39;49;00massembly\u001b[39m}\u001b[39;49;00m\u001b[39m.\u001b[39;49m\u001b[39m{\u001b[39;49;00massembly_threshold\u001b[39m}\u001b[39;49;00m\u001b[39m.bed.gz\u001b[39;49m\u001b[39m\"\u001b[39;49m,\n\u001b[0;32m    145\u001b[0m                     storage\n\u001b[0;32m    146\u001b[0m                 )\n\u001b[0;32m    147\u001b[0m     os\u001b[39m.\u001b[39msystem(\u001b[39mf\u001b[39m\u001b[39m\"\u001b[39m\u001b[39mgunzip \u001b[39m\u001b[39m{\u001b[39;00mstorage\u001b[39m}\u001b[39;00m\u001b[39m/allPeaks_light.\u001b[39m\u001b[39m{\u001b[39;00massembly\u001b[39m}\u001b[39;00m\u001b[39m.\u001b[39m\u001b[39m{\u001b[39;00massembly_threshold\u001b[39m}\u001b[39;00m\u001b[39m.bed.gz\u001b[39m\u001b[39m\"\u001b[39m)\n\u001b[0;32m    149\u001b[0m options \u001b[39m=\u001b[39m {\n\u001b[0;32m    150\u001b[0m     \u001b[39m\"\u001b[39m\u001b[39mid\u001b[39m\u001b[39m\"\u001b[39m                :   expid,\n\u001b[0;32m    151\u001b[0m     \u001b[39m\"\u001b[39m\u001b[39mGenome assembly\u001b[39m\u001b[39m\"\u001b[39m   :   assembly,\n\u001b[1;32m   (...)\u001b[0m\n\u001b[0;32m    155\u001b[0m     \u001b[39m\"\u001b[39m\u001b[39mCell type\u001b[39m\u001b[39m\"\u001b[39m         :   cell\n\u001b[0;32m    156\u001b[0m }\n",
      "File \u001b[1;32mc:\\Users\\borov\\AppData\\Local\\Programs\\Python\\Python310\\lib\\site-packages\\wget.py:526\u001b[0m, in \u001b[0;36mdownload\u001b[1;34m(url, out, bar)\u001b[0m\n\u001b[0;32m    524\u001b[0m \u001b[39melse\u001b[39;00m:\n\u001b[0;32m    525\u001b[0m     binurl \u001b[39m=\u001b[39m url\n\u001b[1;32m--> 526\u001b[0m (tmpfile, headers) \u001b[39m=\u001b[39m ulib\u001b[39m.\u001b[39;49murlretrieve(binurl, tmpfile, callback)\n\u001b[0;32m    527\u001b[0m filename \u001b[39m=\u001b[39m detect_filename(url, out, headers)\n\u001b[0;32m    528\u001b[0m \u001b[39mif\u001b[39;00m outdir:\n",
      "File \u001b[1;32m~\\AppData\\Local\\Programs\\Python\\Python310\\lib\\urllib\\request.py:241\u001b[0m, in \u001b[0;36murlretrieve\u001b[1;34m(url, filename, reporthook, data)\u001b[0m\n\u001b[0;32m    224\u001b[0m \u001b[39m\"\"\"\u001b[39;00m\n\u001b[0;32m    225\u001b[0m \u001b[39mRetrieve a URL into a temporary location on disk.\u001b[39;00m\n\u001b[0;32m    226\u001b[0m \n\u001b[1;32m   (...)\u001b[0m\n\u001b[0;32m    237\u001b[0m \u001b[39mdata file as well as the resulting HTTPMessage object.\u001b[39;00m\n\u001b[0;32m    238\u001b[0m \u001b[39m\"\"\"\u001b[39;00m\n\u001b[0;32m    239\u001b[0m url_type, path \u001b[39m=\u001b[39m _splittype(url)\n\u001b[1;32m--> 241\u001b[0m \u001b[39mwith\u001b[39;00m contextlib\u001b[39m.\u001b[39mclosing(urlopen(url, data)) \u001b[39mas\u001b[39;00m fp:\n\u001b[0;32m    242\u001b[0m     headers \u001b[39m=\u001b[39m fp\u001b[39m.\u001b[39minfo()\n\u001b[0;32m    244\u001b[0m     \u001b[39m# Just return the local path and the \"headers\" for file://\u001b[39;00m\n\u001b[0;32m    245\u001b[0m     \u001b[39m# URLs. No sense in performing a copy unless requested.\u001b[39;00m\n",
      "File \u001b[1;32m~\\AppData\\Local\\Programs\\Python\\Python310\\lib\\urllib\\request.py:216\u001b[0m, in \u001b[0;36murlopen\u001b[1;34m(url, data, timeout, cafile, capath, cadefault, context)\u001b[0m\n\u001b[0;32m    214\u001b[0m \u001b[39melse\u001b[39;00m:\n\u001b[0;32m    215\u001b[0m     opener \u001b[39m=\u001b[39m _opener\n\u001b[1;32m--> 216\u001b[0m \u001b[39mreturn\u001b[39;00m opener\u001b[39m.\u001b[39;49mopen(url, data, timeout)\n",
      "File \u001b[1;32m~\\AppData\\Local\\Programs\\Python\\Python310\\lib\\urllib\\request.py:525\u001b[0m, in \u001b[0;36mOpenerDirector.open\u001b[1;34m(self, fullurl, data, timeout)\u001b[0m\n\u001b[0;32m    523\u001b[0m \u001b[39mfor\u001b[39;00m processor \u001b[39min\u001b[39;00m \u001b[39mself\u001b[39m\u001b[39m.\u001b[39mprocess_response\u001b[39m.\u001b[39mget(protocol, []):\n\u001b[0;32m    524\u001b[0m     meth \u001b[39m=\u001b[39m \u001b[39mgetattr\u001b[39m(processor, meth_name)\n\u001b[1;32m--> 525\u001b[0m     response \u001b[39m=\u001b[39m meth(req, response)\n\u001b[0;32m    527\u001b[0m \u001b[39mreturn\u001b[39;00m response\n",
      "File \u001b[1;32m~\\AppData\\Local\\Programs\\Python\\Python310\\lib\\urllib\\request.py:634\u001b[0m, in \u001b[0;36mHTTPErrorProcessor.http_response\u001b[1;34m(self, request, response)\u001b[0m\n\u001b[0;32m    631\u001b[0m \u001b[39m# According to RFC 2616, \"2xx\" code indicates that the client's\u001b[39;00m\n\u001b[0;32m    632\u001b[0m \u001b[39m# request was successfully received, understood, and accepted.\u001b[39;00m\n\u001b[0;32m    633\u001b[0m \u001b[39mif\u001b[39;00m \u001b[39mnot\u001b[39;00m (\u001b[39m200\u001b[39m \u001b[39m<\u001b[39m\u001b[39m=\u001b[39m code \u001b[39m<\u001b[39m \u001b[39m300\u001b[39m):\n\u001b[1;32m--> 634\u001b[0m     response \u001b[39m=\u001b[39m \u001b[39mself\u001b[39;49m\u001b[39m.\u001b[39;49mparent\u001b[39m.\u001b[39;49merror(\n\u001b[0;32m    635\u001b[0m         \u001b[39m'\u001b[39;49m\u001b[39mhttp\u001b[39;49m\u001b[39m'\u001b[39;49m, request, response, code, msg, hdrs)\n\u001b[0;32m    637\u001b[0m \u001b[39mreturn\u001b[39;00m response\n",
      "File \u001b[1;32m~\\AppData\\Local\\Programs\\Python\\Python310\\lib\\urllib\\request.py:563\u001b[0m, in \u001b[0;36mOpenerDirector.error\u001b[1;34m(self, proto, *args)\u001b[0m\n\u001b[0;32m    561\u001b[0m \u001b[39mif\u001b[39;00m http_err:\n\u001b[0;32m    562\u001b[0m     args \u001b[39m=\u001b[39m (\u001b[39mdict\u001b[39m, \u001b[39m'\u001b[39m\u001b[39mdefault\u001b[39m\u001b[39m'\u001b[39m, \u001b[39m'\u001b[39m\u001b[39mhttp_error_default\u001b[39m\u001b[39m'\u001b[39m) \u001b[39m+\u001b[39m orig_args\n\u001b[1;32m--> 563\u001b[0m     \u001b[39mreturn\u001b[39;00m \u001b[39mself\u001b[39;49m\u001b[39m.\u001b[39;49m_call_chain(\u001b[39m*\u001b[39;49margs)\n",
      "File \u001b[1;32m~\\AppData\\Local\\Programs\\Python\\Python310\\lib\\urllib\\request.py:496\u001b[0m, in \u001b[0;36mOpenerDirector._call_chain\u001b[1;34m(self, chain, kind, meth_name, *args)\u001b[0m\n\u001b[0;32m    494\u001b[0m \u001b[39mfor\u001b[39;00m handler \u001b[39min\u001b[39;00m handlers:\n\u001b[0;32m    495\u001b[0m     func \u001b[39m=\u001b[39m \u001b[39mgetattr\u001b[39m(handler, meth_name)\n\u001b[1;32m--> 496\u001b[0m     result \u001b[39m=\u001b[39m func(\u001b[39m*\u001b[39;49margs)\n\u001b[0;32m    497\u001b[0m     \u001b[39mif\u001b[39;00m result \u001b[39mis\u001b[39;00m \u001b[39mnot\u001b[39;00m \u001b[39mNone\u001b[39;00m:\n\u001b[0;32m    498\u001b[0m         \u001b[39mreturn\u001b[39;00m result\n",
      "File \u001b[1;32m~\\AppData\\Local\\Programs\\Python\\Python310\\lib\\urllib\\request.py:643\u001b[0m, in \u001b[0;36mHTTPDefaultErrorHandler.http_error_default\u001b[1;34m(self, req, fp, code, msg, hdrs)\u001b[0m\n\u001b[0;32m    642\u001b[0m \u001b[39mdef\u001b[39;00m \u001b[39mhttp_error_default\u001b[39m(\u001b[39mself\u001b[39m, req, fp, code, msg, hdrs):\n\u001b[1;32m--> 643\u001b[0m     \u001b[39mraise\u001b[39;00m HTTPError(req\u001b[39m.\u001b[39mfull_url, code, msg, hdrs, fp)\n",
      "\u001b[1;31mHTTPError\u001b[0m: HTTP Error 404: Not Found"
     ]
    }
   ],
   "source": [
    "Example = {\n",
    "    \"expid\"     :   \"SRX344646\",\n",
    "    \"assembly\"  :   \"hg19\",\n",
    "    \"Q-value\"   :   \"10\",\n",
    "    \"a.g_class\" :   \"TFs_and_others\",\n",
    "    \"antigen\"   :   \"GATA2\",\n",
    "    \"cell_type\" :   \"Blood\",\n",
    "    \"cell\"      :   \"K-562\",\n",
    "    \"storage\"   :   \"./storage\",\n",
    "    \"output\"    :   \"./\"\n",
    "}\n",
    "\n",
    "loader.omics(\n",
    "    expid               = Example[\"expid\"],\n",
    "    assembly            = Example[\"assembly\"],\n",
    "    assembly_threshold  = Example [\"Q-value\"],\n",
    "    antigen_class       = Example[\"a.g_class\"],\n",
    "    antigen             = Example[\"antigen\"],\n",
    "    cell_type           = Example[\"cell_type\"],\n",
    "    cell                = Example[\"cell\"],\n",
    "    storage             = Example[\"storage\"],\n",
    "    output_path         = Example[\"output\"]\n",
    "    )"
   ]
  },
  {
   "attachments": {},
   "cell_type": "markdown",
   "metadata": {},
   "source": [
    "BED files must be saved in the storage folder, in bed format with meaningful names\n",
    "\n",
    "- expid\n",
    "\n",
    "Ids of experiments that you need \n",
    "\n",
    "Example: SRX344646\n",
    "\n",
    "- assembly\n",
    "\n",
    "Genome assembly\n",
    "\n",
    "default: hg38\n",
    "\n",
    "Example: hg19\n",
    "\n",
    "- assembly_threshold\n",
    "\n",
    "Q-value thresholds\n",
    "\n",
    "default: 05\n",
    "\n",
    "Example: 10\n",
    "\n",
    "- antigen_class\n",
    "\n",
    "IMPORTANT: if the antigen class contains spaces, then they should be replaced with “_”\n",
    "\n",
    "Example 1: Histone\n",
    "\n",
    "Example 2: TFs_and_others\n",
    "\n",
    "- antigen\n",
    "\n",
    "Example: GATA2\n",
    "\n",
    "- cell_type\n",
    "\n",
    "Example: Blood\n",
    "\n",
    "- cell\n",
    "\n",
    "Example: K-562"
   ]
  },
  {
   "cell_type": "code",
   "execution_count": null,
   "metadata": {},
   "outputs": [],
   "source": []
  }
 ],
 "metadata": {
  "kernelspec": {
   "display_name": "Python 3 (ipykernel)",
   "language": "python",
   "name": "python3"
  },
  "language_info": {
   "codemirror_mode": {
    "name": "ipython",
    "version": 3
   },
   "file_extension": ".py",
   "mimetype": "text/x-python",
   "name": "python",
   "nbconvert_exporter": "python",
   "pygments_lexer": "ipython3",
   "version": "3.10.6"
  }
 },
 "nbformat": 4,
 "nbformat_minor": 1
}
