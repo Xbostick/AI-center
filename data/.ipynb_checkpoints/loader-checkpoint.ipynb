{
 "cells": [
  {
   "cell_type": "code",
   "execution_count": 13,
   "metadata": {},
   "outputs": [],
   "source": [
    "from pathlib import Path\n",
    "import import_ipynb\n",
    "import omicDC\n",
    "\n",
    "STORAGE = Path(\"storage\")\n",
    "\n",
    "# Docs should be in this notebook. Explain data sources, parameters meaning, etc\n",
    "# Provide example!"
   ]
  },
  {
   "cell_type": "markdown",
   "metadata": {},
   "source": [
    "# Genome assembly\n",
    "\n",
    "TODO: docs"
   ]
  },
  {
   "cell_type": "code",
   "execution_count": null,
   "metadata": {},
   "outputs": [],
   "source": [
    "fasta = STORAGE.joinpath(\"assembly.fa.gz\")\n",
    "\n",
    "loader.assembly(tag=\"GRCh38\", saveto=fasta)\n",
    "\n",
    "assert fasta.exists() and fasta.with_suffix(\".fa.gz.fai\").exists(), \\\n",
    "    \"The download failed! Please, retry.\""
   ]
  },
  {
   "cell_type": "markdown",
   "metadata": {},
   "source": [
    "# Omics data\n",
    "\n",
    "TODO: docs"
   ]
  },
  {
   "cell_type": "code",
   "execution_count": 2,
   "metadata": {},
   "outputs": [],
   "source": [
    "import omicDC"
   ]
  },
  {
   "cell_type": "code",
   "execution_count": 3,
   "metadata": {},
   "outputs": [
    {
     "ename": "NameError",
     "evalue": "name 'expid' is not defined",
     "output_type": "error",
     "traceback": [
      "\u001b[0;31m---------------------------------------------------------------------------\u001b[0m",
      "\u001b[0;31mNameError\u001b[0m                                 Traceback (most recent call last)",
      "Cell \u001b[0;32mIn[3], line 30\u001b[0m\n\u001b[1;32m      1\u001b[0m \u001b[38;5;66;03m# BED files must be saved in the storage folder, in bed format with meaningful names\u001b[39;00m\n\u001b[1;32m      2\u001b[0m \n\u001b[1;32m      3\u001b[0m \u001b[38;5;66;03m# - expid\u001b[39;00m\n\u001b[0;32m   (...)\u001b[0m\n\u001b[1;32m     27\u001b[0m \u001b[38;5;66;03m# - cell\u001b[39;00m\n\u001b[1;32m     28\u001b[0m \u001b[38;5;66;03m# Example: K-562\u001b[39;00m\n\u001b[0;32m---> 30\u001b[0m omicDC\u001b[38;5;241m.\u001b[39momics(\u001b[43mexpid\u001b[49m, assembly, assembly_threshold, antigen_class, antigen, cell_type, cell, storage) \u001b[38;5;66;03m# How should it work?\u001b[39;00m\n",
      "\u001b[0;31mNameError\u001b[0m: name 'expid' is not defined"
     ]
    }
   ],
   "source": [
    "# BED files must be saved in the storage folder, in bed format with meaningful names\n",
    "\n",
    "# - expid\n",
    "# Ids of experiments that you need \n",
    "# Example: SRX344646\n",
    "#\n",
    "# - assembly\n",
    "# Genome assembly\n",
    "# default: hg38\n",
    "# Example: hg19\n",
    "#\n",
    "# - assembly_threshold\n",
    "# Q-value thresholds\n",
    "# Example: 05\n",
    "#\n",
    "# - antigen_class\n",
    "# IMPORTANT: if the antigen class contains spaces, then they should be replaced with “_”\n",
    "# Example 1: Histone\n",
    "# Example 2: TFs_and_others\n",
    "#\n",
    "# - antigen\n",
    "# Example: GATA2\n",
    "#\n",
    "# - cell_type\n",
    "# Example: Blood\n",
    "#\n",
    "# - cell\n",
    "# Example: K-562\n",
    "\n",
    "omicDC.omics(expid, assembly, assembly_threshold, antigen_class, antigen, cell_type, cell, storage) # How should it work?"
   ]
  },
  {
   "cell_type": "code",
   "execution_count": null,
   "metadata": {},
   "outputs": [],
   "source": []
  }
 ],
 "metadata": {
  "kernelspec": {
   "display_name": "Python 3 (ipykernel)",
   "language": "python",
   "name": "python3"
  },
  "language_info": {
   "codemirror_mode": {
    "name": "ipython",
    "version": 3
   },
   "file_extension": ".py",
   "mimetype": "text/x-python",
   "name": "python",
   "nbconvert_exporter": "python",
   "pygments_lexer": "ipython3",
   "version": "3.11.0"
  }
 },
 "nbformat": 4,
 "nbformat_minor": 1
}
